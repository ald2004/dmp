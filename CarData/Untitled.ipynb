{
 "cells": [
  {
   "cell_type": "code",
   "execution_count": 16,
   "metadata": {},
   "outputs": [
    {
     "name": "stdout",
     "output_type": "stream",
     "text": [
      "The autoreload extension is already loaded. To reload it, use:\n",
      "  %reload_ext autoreload\n"
     ]
    }
   ],
   "source": [
    "import cv2,os,sys\n",
    "import matplotlib.pyplot as plt\n",
    "from skimage.feature import hog\n",
    "%matplotlib inline\n",
    "plt.rcParams['figure.figsize'] = (10.0, 8.0) # set default size of plots\n",
    "plt.rcParams['image.interpolation'] = 'nearest'\n",
    "plt.rcParams['image.cmap'] = 'gray'\n",
    "\n",
    "# for auto-reloading external modules\n",
    "# see http://stackoverflow.com/questions/1907993/autoreload-of-modules-in-ipython\n",
    "%load_ext autoreload\n",
    "%autoreload 2"
   ]
  },
  {
   "cell_type": "code",
   "execution_count": 13,
   "metadata": {
    "scrolled": true
   },
   "outputs": [
    {
     "data": {
      "text/plain": [
       "<matplotlib.image.AxesImage at 0x7f309f528e10>"
      ]
     },
     "execution_count": 13,
     "metadata": {},
     "output_type": "execute_result"
    },
    {
     "data": {
      "image/png": "[encoded data removed]",
      "text/plain": [
       "<Figure size 720x576 with 1 Axes>"
      ]
     },
     "metadata": {
      "needs_background": "light"
     },
     "output_type": "display_data"
    }
   ],
   "source": [
    "img=cv2.imread('TrainImages/neg-0.pgm',0)\n",
    "plt.subplot(2, 3, 1)\n",
    "plt.imshow(img.astype('uint8'))\n",
    "#plt.gca().axis('off')"
   ]
  },
  {
   "cell_type": "code",
   "execution_count": 17,
   "metadata": {},
   "outputs": [],
   "source": [
    "class DPM:\n",
    "    \n",
    "    def __init__(\n",
    "            self,\n",
    "            step_x=4,\n",
    "            step_y=2,\n",
    "            pix_per_cell_root=8,\n",
    "            cells_per_block_root=2,\n",
    "            pix_per_cell_part=4,\n",
    "            cells_per_block_part=2,\n",
    "            parts_count=4,\n",
    "            part_w=30,\n",
    "            part_h=20):\n",
    "        \"\"\"\n",
    "        Here we initilize some important parts of the the algorithm\n",
    "\n",
    "        step_x --- our step (x direction) in sliding window\n",
    "\n",
    "        \"\"\"\n",
    "\n",
    "        self.image_h = 22  # 14 - 36\n",
    "        self.image_w = 90  # 5 - 95\n",
    "        self.step_x = step_x\n",
    "        self.step_y = step_y\n",
    "\n",
    "        # HOG configuration\n",
    "        self.pix_per_cell_root = pix_per_cell_root\n",
    "        self.cells_per_block_root = cells_per_block_root\n",
    "\n",
    "        self.pix_per_cell_part = pix_per_cell_part\n",
    "        self.cells_per_block_part = cells_per_block_part\n",
    "\n",
    "        self.parts_count = parts_count\n",
    "\n",
    "        # partfilter size\n",
    "        self.part_w = part_w\n",
    "        self.part_h = part_h\n",
    "\n",
    "        self.filters = []\n",
    "\n",
    "        self.importance_treshold = 1e-4\n",
    "        self.importance_features = []\n",
    "        self.importance_features_bool = []\n",
    "    def process_frame(self, im, tres_main, tres_nomain):\n",
    "        nmb = 0\n",
    "        summ_cost = 0\n",
    "        pix_per_cell = 8\n",
    "        cells_per_bl = 2\n",
    "        pix_per_cell_1 = 4\n",
    "        cells_per_bl_1 = 2\n",
    "        root_feature = hog(np.asarray(im), orientations=9, pixels_per_cell=(pix_per_cell, pix_per_cell),\n",
    "                           cells_per_block=(cells_per_bl, cells_per_bl))\n",
    "        main_filter = False\n",
    "        if self.clfs[nmb].predict([root_feature]) == '1':\n",
    "            print('main filter')\n",
    "            summ_cost += 0.5\n",
    "            main_filter = True\n",
    "        nmb += 1\n",
    "        best_coord = self.process_filter_image(im)\n",
    "        for key in best_coord.keys():\n",
    "            print(best_coord[key], ' ', key)\n",
    "            filter_cost = self.get_filters_cost(best_coord[key], key)\n",
    "            cost = 1.0 / (1 + filter_cost)\n",
    "            print('key: ', key, ' cost: ', cost)\n",
    "            summ_cost += cost\n",
    "        print('summ_cost ', summ_cost)"
   ]
  }
 ],
 "metadata": {
  "kernelspec": {
   "display_name": "Python 3",
   "language": "python",
   "name": "python3"
  },
  "language_info": {
   "codemirror_mode": {
    "name": "ipython",
    "version": 3
   },
   "file_extension": ".py",
   "mimetype": "text/x-python",
   "name": "python",
   "nbconvert_exporter": "python",
   "pygments_lexer": "ipython3",
   "version": "3.6.6"
  },
  "toc": {
   "base_numbering": 1,
   "nav_menu": {},
   "number_sections": true,
   "sideBar": true,
   "skip_h1_title": false,
   "title_cell": "Table of Contents",
   "title_sidebar": "Contents",
   "toc_cell": false,
   "toc_position": {},
   "toc_section_display": true,
   "toc_window_display": false
  }
 },
 "nbformat": 4,
 "nbformat_minor": 2
}
